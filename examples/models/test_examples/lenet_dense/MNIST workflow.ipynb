{
 "cells": [
  {
   "cell_type": "markdown",
   "metadata": {},
   "source": [
    "# Checking the ANN"
   ]
  },
  {
   "cell_type": "code",
   "execution_count": null,
   "metadata": {},
   "outputs": [],
   "source": [
    "from keras.models import load_model\n",
    "import dnns\n",
    "import numpy as np\n",
    "from dnns.noisy_sgd import NoisySGD\n"
   ]
  },
  {
   "cell_type": "code",
   "execution_count": null,
   "metadata": {},
   "outputs": [],
   "source": [
    "# load model\n",
    "model = load_model('trained_model_of_lenet_300_100_relu_crossent_noisy_sgd_retest_final_dense.h5', custom_objects={'NoisySGD':NoisySGD})"
   ]
  },
  {
   "cell_type": "code",
   "execution_count": null,
   "metadata": {},
   "outputs": [],
   "source": [
    "# summarize model.\n",
    "model.summary()\n",
    "# load dataset"
   ]
  },
  {
   "cell_type": "code",
   "execution_count": null,
   "metadata": {},
   "outputs": [],
   "source": [
    "from dnns.load_dataset import load_and_preprocess_dataset\n",
    "is_output_categorical = True\n",
    "dataset_info = load_and_preprocess_dataset(\n",
    "    'mnist', categorical_output=is_output_categorical)\n",
    "x_train, y_train = dataset_info['train']\n",
    "x_test, y_test = dataset_info['test']\n",
    "img_rows, img_cols = dataset_info['img_dims']\n",
    "input_shape = dataset_info['input_shape']\n",
    "num_classes = dataset_info['num_classes']\n",
    "\n",
    "# reshape input to flatten data\n",
    "x_train = x_train.reshape(x_train.shape[0], 1, np.prod(x_train.shape[1:]))\n",
    "np.savez('x_train', x_train)\n",
    "x_test = x_test.reshape(x_test.shape[0], 1, np.prod(x_test.shape[1:]))\n",
    "np.savez('x_test', x_test)\n",
    "x_norm = x_train[:10000].reshape(10000, 1, np.prod(x_train.shape[1:]))\n",
    "np.savez('x_norm', x_norm)\n",
    "\n",
    "np.savez('y_train', y_train)\n",
    "np.savez('y_test', y_test)"
   ]
  },
  {
   "cell_type": "code",
   "execution_count": null,
   "metadata": {},
   "outputs": [],
   "source": [
    "model.layers[1].data_format"
   ]
  },
  {
   "cell_type": "code",
   "execution_count": null,
   "metadata": {},
   "outputs": [],
   "source": [
    "\n",
    "score = model.evaluate(x_test, y_test, verbose=1, batch_size=10)\n",
    "print('Test Loss:', score[0])\n",
    "print('Test Accuracy:', score[1])\n"
   ]
  },
  {
   "cell_type": "markdown",
   "metadata": {},
   "source": [
    "# Running the Toolbox"
   ]
  },
  {
   "cell_type": "code",
   "execution_count": null,
   "metadata": {},
   "outputs": [],
   "source": [
    "from snntoolbox.bin.run import run_toolbox"
   ]
  },
  {
   "cell_type": "code",
   "execution_count": null,
   "metadata": {},
   "outputs": [],
   "source": [
    "config = \"\"\"[paths]\n",
    "dataset_path = %(path_wd)s\n",
    "filename_ann = trained_model_of_lenet_300_100_relu_crossent_noisy_sgd_retest_final_dense\n",
    "runlabel = lenet_dense\n",
    "\n",
    "[tools]\n",
    "evaluate_ann = False\n",
    "normalize = True\n",
    "only_serialise = True\n",
    "\n",
    "[normalization]\n",
    "percentile = 90.0\n",
    "\n",
    "[simulation]\n",
    "simulator = spiNNaker\n",
    "duration = 200\n",
    "num_to_test = 5\n",
    "batch_size = 5\n",
    "keras_backend = tensorflow\n",
    "dt = 0.1\n",
    "\n",
    "[cell]\n",
    "tau_syn_E = 0.2\n",
    "tau_syn_I = 0.2\n",
    "v_thresh = 1\n",
    "\n",
    "[input]\n",
    "poisson_input = True\n",
    "\n",
    "\n",
    "[output]\n",
    "log_vars = {'all'}\n",
    "plot_vars = {'all'}\"\"\"\n",
    "\n",
    "file='config'\n",
    "with open(file, 'w') as filetowrite:\n",
    "    filetowrite.write(config)\n",
    "\n",
    "f = open(\"config\",\"r\")\n",
    "\n",
    "t_stim = 200\n",
    "testing_examples = 5"
   ]
  },
  {
   "cell_type": "code",
   "execution_count": null,
   "metadata": {},
   "outputs": [],
   "source": [
    "#necessary to fully reset simulator\n",
    "from spinn_front_end_common.utilities import globals_variables\n",
    "globals_variables.unset_simulator()\n",
    "\n",
    "run_toolbox(config_filepath='config',terminal=True)\n",
    "#complains because it tries to do data analysis\n",
    "#in future it would be better to put serialisation inside the toolbox"
   ]
  },
  {
   "cell_type": "markdown",
   "metadata": {},
   "source": [
    "# Running the serialised model"
   ]
  },
  {
   "cell_type": "code",
   "execution_count": null,
   "metadata": {},
   "outputs": [],
   "source": [
    "#necessary to fully reset simulator\n",
    "from spinn_front_end_common.utilities import globals_variables\n",
    "globals_variables.unset_simulator()\n",
    "\n",
    "extra_args = ['lenet_dense_serialised', '--t_stim', str(t_stim), '--testing_examples',\\\n",
    "              str(testing_examples), '--result_filename', 'output_data', '--result_dir', '.']\n",
    "import pynn_object_serialisation.experiments.mnist_testing.mnist_testing as mnist_testing\n",
    "from pynn_object_serialisation.experiments.mnist_testing.mnist_argparser import parser\n",
    "\n",
    "new_args = parser.parse_args(extra_args) \n",
    "mnist_testing.run(new_args)\n"
   ]
  },
  {
   "cell_type": "markdown",
   "metadata": {},
   "source": [
    "# Looking at the output"
   ]
  },
  {
   "cell_type": "code",
   "execution_count": null,
   "metadata": {},
   "outputs": [],
   "source": [
    "from pynn_object_serialisation.OutputDataProcessor import OutputDataProcessor"
   ]
  },
  {
   "cell_type": "code",
   "execution_count": null,
   "metadata": {},
   "outputs": [],
   "source": [
    "output = OutputDataProcessor('output_data.npz')"
   ]
  },
  {
   "cell_type": "code",
   "execution_count": null,
   "metadata": {},
   "outputs": [],
   "source": [
    "output.y_pred"
   ]
  },
  {
   "cell_type": "code",
   "execution_count": null,
   "metadata": {},
   "outputs": [],
   "source": [
    "output.y_test"
   ]
  },
  {
   "cell_type": "code",
   "execution_count": null,
   "metadata": {},
   "outputs": [],
   "source": [
    "output.accuracy"
   ]
  },
  {
   "cell_type": "code",
   "execution_count": null,
   "metadata": {},
   "outputs": [],
   "source": [
    "output.y_pred == output.y_test"
   ]
  },
  {
   "cell_type": "code",
   "execution_count": null,
   "metadata": {},
   "outputs": [],
   "source": [
    "output.plot_bin(0, output.layer_names[3], shape = (28,28))"
   ]
  },
  {
   "cell_type": "code",
   "execution_count": null,
   "metadata": {},
   "outputs": [],
   "source": [
    "output.layer_names"
   ]
  },
  {
   "cell_type": "code",
   "execution_count": null,
   "metadata": {},
   "outputs": [],
   "source": [
    "output.get_bounds(1)"
   ]
  },
  {
   "cell_type": "code",
   "execution_count": null,
   "metadata": {},
   "outputs": [],
   "source": [
    "output.t_stim"
   ]
  },
  {
   "cell_type": "code",
   "execution_count": null,
   "metadata": {},
   "outputs": [],
   "source": [
    "output.dt"
   ]
  },
  {
   "cell_type": "code",
   "execution_count": null,
   "metadata": {},
   "outputs": [],
   "source": [
    "output.delay"
   ]
  },
  {
   "cell_type": "code",
   "execution_count": null,
   "metadata": {},
   "outputs": [],
   "source": []
  }
 ],
 "metadata": {
  "kernelspec": {
   "display_name": "Python 3",
   "language": "python",
   "name": "python3"
  },
  "language_info": {
   "codemirror_mode": {
    "name": "ipython",
    "version": 3
   },
   "file_extension": ".py",
   "mimetype": "text/x-python",
   "name": "python",
   "nbconvert_exporter": "python",
   "pygments_lexer": "ipython3",
   "version": "3.5.2"
  }
 },
 "nbformat": 4,
 "nbformat_minor": 2
}
